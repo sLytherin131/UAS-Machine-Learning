{
  "nbformat": 4,
  "nbformat_minor": 0,
  "metadata": {
    "colab": {
      "provenance": [],
      "gpuType": "T4"
    },
    "kernelspec": {
      "name": "python3",
      "display_name": "Python 3"
    },
    "language_info": {
      "name": "python"
    },
    "accelerator": "GPU"
  },
  "cells": [
    {
      "cell_type": "code",
      "source": [
        "import pandas as pd\n",
        "from sklearn.preprocessing import MinMaxScaler\n",
        "from tabulate import tabulate\n",
        "import seaborn as sns\n",
        "import matplotlib.pyplot as plt\n",
        "from sklearn.ensemble import RandomForestClassifier\n",
        "from sklearn.model_selection import train_test_split\n",
        "from sklearn.metrics import classification_report\n",
        "from xgboost import XGBClassifier\n",
        "from sklearn.linear_model import LinearRegression\n",
        "from sklearn.preprocessing import LabelEncoder\n",
        "from sklearn.metrics import accuracy_score, precision_score, recall_score, f1_score, classification_report\n",
        "import warnings\n"
      ],
      "metadata": {
        "id": "bIa4PVrulf-O"
      },
      "execution_count": 21,
      "outputs": []
    },
    {
      "cell_type": "code",
      "source": [
        "# Mount Google Drive\n",
        "from google.colab import drive\n",
        "drive.mount('/content/drive')\n",
        "\n",
        "# Load file\n",
        "file_path = '/content/drive/MyDrive/UAS Machine Learning /AirQualityJakartaData.xlsx'\n",
        "data = pd.read_excel(file_path)\n",
        "\n",
        "# Tampilkan info awal dataset\n",
        "print(\"\\n Initial Dataset Info \")\n",
        "print(data.info())\n",
        "\n",
        "# Tampilkan dataset awal dalam bentuk tabel rapi dengan tabulate\n",
        "print(\"\\n Initial Dataset Preview \")\n",
        "print(tabulate(data.head(), headers='keys', tablefmt='fancy_grid'))\n",
        "\n",
        "# Preprocessing\n",
        "print(\"\\n Preprocessing Data \")\n",
        "data = data[[\"PM10\", \"PM25\", \"SO2\", \"CO\", \"O3\", \"NO2\", \"category\"]]  # Pilih kolom penting\n",
        "\n",
        "# Bersihkan data non-numeric\n",
        "for col in [\"PM10\", \"PM25\", \"SO2\", \"CO\", \"O3\", \"NO2\"]:\n",
        "    data[col] = pd.to_numeric(data[col], errors='coerce')\n",
        "\n",
        "data = data.dropna()  # Hapus baris dengan nilai kosong\n",
        "\n",
        "# Simpan data yang sudah diproses\n",
        "output_path = '/content/drive/MyDrive/UAS Machine Learning /PreprocessedAirQualityJakartaData.xlsx'\n",
        "data.to_excel(output_path, index=False)"
      ],
      "metadata": {
        "colab": {
          "base_uri": "https://localhost:8080/"
        },
        "id": "WPV1fSWx5Fgr",
        "outputId": "e007abf9-a696-4306-88db-9eee9f926c4e"
      },
      "execution_count": 22,
      "outputs": [
        {
          "output_type": "stream",
          "name": "stdout",
          "text": [
            "Drive already mounted at /content/drive; to attempt to forcibly remount, call drive.mount(\"/content/drive\", force_remount=True).\n",
            "\n",
            " Initial Dataset Info \n",
            "<class 'pandas.core.frame.DataFrame'>\n",
            "RangeIndex: 1825 entries, 0 to 1824\n",
            "Data columns (total 13 columns):\n",
            " #   Column                        Non-Null Count  Dtype         \n",
            "---  ------                        --------------  -----         \n",
            " 0   _id                           1825 non-null   int64         \n",
            " 1   data_period                   1825 non-null   int64         \n",
            " 2   date                          1825 non-null   datetime64[ns]\n",
            " 3   station                       1825 non-null   object        \n",
            " 4   PM10                          1825 non-null   object        \n",
            " 5   PM25                          1825 non-null   object        \n",
            " 6   SO2                           1825 non-null   object        \n",
            " 7   CO                            1825 non-null   object        \n",
            " 8   O3                            1825 non-null   object        \n",
            " 9   NO2                           1825 non-null   object        \n",
            " 10  max                           1822 non-null   float64       \n",
            " 11  critical_pollutant_parameter  1812 non-null   object        \n",
            " 12  category                      1825 non-null   object        \n",
            "dtypes: datetime64[ns](1), float64(1), int64(2), object(9)\n",
            "memory usage: 185.5+ KB\n",
            "None\n",
            "\n",
            " Initial Dataset Preview \n",
            "╒════╤═══════╤═══════════════╤═════════════════════╤════════════════════════════════╤════════╤════════╤═══════╤══════╤══════╤═══════╤═══════╤════════════════════════════════╤════════════╕\n",
            "│    │   _id │   data_period │ date                │ station                        │   PM10 │ PM25   │   SO2 │   CO │   O3 │   NO2 │   max │ critical_pollutant_parameter   │ category   │\n",
            "╞════╪═══════╪═══════════════╪═════════════════════╪════════════════════════════════╪════════╪════════╪═══════╪══════╪══════╪═══════╪═══════╪════════════════════════════════╪════════════╡\n",
            "│  0 │     1 │        202302 │ 2023-02-25 00:00:00 │ DKI5 Kebon Jeruk Jakarta Barat │     35 │ -      │    13 │   12 │   31 │    18 │    35 │ PM10                           │ GOOD       │\n",
            "├────┼───────┼───────────────┼─────────────────────┼────────────────────────────────┼────────┼────────┼───────┼──────┼──────┼───────┼───────┼────────────────────────────────┼────────────┤\n",
            "│  1 │     2 │        202302 │ 2023-02-26 00:00:00 │ DKI5 Kebon Jeruk Jakarta Barat │     23 │ -      │    14 │    9 │   32 │    11 │    32 │ O3                             │ GOOD       │\n",
            "├────┼───────┼───────────────┼─────────────────────┼────────────────────────────────┼────────┼────────┼───────┼──────┼──────┼───────┼───────┼────────────────────────────────┼────────────┤\n",
            "│  2 │     3 │        202302 │ 2023-02-27 00:00:00 │ DKI5 Kebon Jeruk Jakarta Barat │     20 │ -      │    13 │    8 │   33 │    13 │    33 │ O3                             │ GOOD       │\n",
            "├────┼───────┼───────────────┼─────────────────────┼────────────────────────────────┼────────┼────────┼───────┼──────┼──────┼───────┼───────┼────────────────────────────────┼────────────┤\n",
            "│  3 │     4 │        202302 │ 2023-02-28 00:00:00 │ DKI5 Kebon Jeruk Jakarta Barat │     30 │ -      │    21 │   11 │   28 │    18 │    30 │ PM10                           │ GOOD       │\n",
            "├────┼───────┼───────────────┼─────────────────────┼────────────────────────────────┼────────┼────────┼───────┼──────┼──────┼───────┼───────┼────────────────────────────────┼────────────┤\n",
            "│  4 │     5 │        202303 │ 2023-03-01 00:00:00 │ DKI1 Bunderan HI               │     38 │ 44     │    50 │    8 │   19 │    27 │    50 │ 3                              │ GOOD       │\n",
            "╘════╧═══════╧═══════════════╧═════════════════════╧════════════════════════════════╧════════╧════════╧═══════╧══════╧══════╧═══════╧═══════╧════════════════════════════════╧════════════╛\n",
            "\n",
            " Preprocessing Data \n"
          ]
        }
      ]
    },
    {
      "cell_type": "code",
      "source": [
        "file_path = '/content/drive/MyDrive/UAS Machine Learning /PreprocessedAirQualityJakartaData.xlsx'\n",
        "data = pd.read_excel(file_path)\n",
        "\n",
        "# Info dataset setelah preprocessing\n",
        "print(\"\\n Dataset Info After Preprocessing \")\n",
        "print(data.info())\n",
        "\n"
      ],
      "metadata": {
        "colab": {
          "base_uri": "https://localhost:8080/"
        },
        "id": "8jzogE2il6hs",
        "outputId": "031b8515-5fb1-4aef-bf0c-2f404d8adb8b"
      },
      "execution_count": 23,
      "outputs": [
        {
          "output_type": "stream",
          "name": "stdout",
          "text": [
            "\n",
            " Dataset Info After Preprocessing \n",
            "<class 'pandas.core.frame.DataFrame'>\n",
            "RangeIndex: 1284 entries, 0 to 1283\n",
            "Data columns (total 7 columns):\n",
            " #   Column    Non-Null Count  Dtype \n",
            "---  ------    --------------  ----- \n",
            " 0   PM10      1284 non-null   int64 \n",
            " 1   PM25      1284 non-null   int64 \n",
            " 2   SO2       1284 non-null   int64 \n",
            " 3   CO        1284 non-null   int64 \n",
            " 4   O3        1284 non-null   int64 \n",
            " 5   NO2       1284 non-null   int64 \n",
            " 6   category  1284 non-null   object\n",
            "dtypes: int64(6), object(1)\n",
            "memory usage: 70.3+ KB\n",
            "None\n"
          ]
        }
      ]
    },
    {
      "cell_type": "markdown",
      "source": [
        "***Preprocessed Dataset Preview***"
      ],
      "metadata": {
        "id": "KNmWVMXrz7kV"
      }
    },
    {
      "cell_type": "code",
      "source": [
        "# Tampilkan dataset setelah preprocessing dalam bentuk tabel rapi\n",
        "print(\"\\n Preprocessed Dataset Preview \")\n",
        "print(tabulate(data.head(), headers='keys', tablefmt='fancy_grid'))  # Tabel rapi menggunakan fancy_grid\n",
        "\n",
        "\n"
      ],
      "metadata": {
        "colab": {
          "base_uri": "https://localhost:8080/"
        },
        "id": "3Epb8OpIl3ba",
        "outputId": "26648652-5505-494e-f264-ac8622fdb950"
      },
      "execution_count": 24,
      "outputs": [
        {
          "output_type": "stream",
          "name": "stdout",
          "text": [
            "\n",
            " Preprocessed Dataset Preview \n",
            "╒════╤════════╤════════╤═══════╤══════╤══════╤═══════╤════════════╕\n",
            "│    │   PM10 │   PM25 │   SO2 │   CO │   O3 │   NO2 │ category   │\n",
            "╞════╪════════╪════════╪═══════╪══════╪══════╪═══════╪════════════╡\n",
            "│  0 │     38 │     44 │    50 │    8 │   19 │    27 │ GOOD       │\n",
            "├────┼────────┼────────┼───────┼──────┼──────┼───────┼────────────┤\n",
            "│  1 │     29 │     33 │    47 │   11 │   21 │    27 │ GOOD       │\n",
            "├────┼────────┼────────┼───────┼──────┼──────┼───────┼────────────┤\n",
            "│  2 │     38 │     46 │    49 │    9 │   16 │    25 │ GOOD       │\n",
            "├────┼────────┼────────┼───────┼──────┼──────┼───────┼────────────┤\n",
            "│  3 │     33 │     41 │    47 │   11 │   21 │    22 │ GOOD       │\n",
            "├────┼────────┼────────┼───────┼──────┼──────┼───────┼────────────┤\n",
            "│  4 │     31 │     44 │    46 │    9 │   20 │    19 │ GOOD       │\n",
            "╘════╧════════╧════════╧═══════╧══════╧══════╧═══════╧════════════╛\n"
          ]
        }
      ]
    },
    {
      "cell_type": "markdown",
      "source": [
        "***Distribusi kategori***"
      ],
      "metadata": {
        "id": "4GcmeDcmz3E6"
      }
    },
    {
      "cell_type": "code",
      "source": [
        "# Distribusi kategori\n",
        "print(\"\\n Data Distribution by Category \")\n",
        "category_counts = data[\"category\"].value_counts()\n",
        "print(tabulate(category_counts.reset_index(), headers=['Category', 'Count'], tablefmt='fancy_grid'))  # Tabel rapi\n",
        "\n"
      ],
      "metadata": {
        "colab": {
          "base_uri": "https://localhost:8080/"
        },
        "id": "YCv0NcuSl2Sn",
        "outputId": "f26769d3-1b76-4429-dd29-b0a9c72ec508"
      },
      "execution_count": 26,
      "outputs": [
        {
          "output_type": "stream",
          "name": "stdout",
          "text": [
            "\n",
            " Data Distribution by Category \n",
            "╒════╤════════════════╤═════════╕\n",
            "│    │ Category       │   Count │\n",
            "╞════╪════════════════╪═════════╡\n",
            "│  0 │ MEDIUM         │    1079 │\n",
            "├────┼────────────────┼─────────┤\n",
            "│  1 │ GOOD           │     102 │\n",
            "├────┼────────────────┼─────────┤\n",
            "│  2 │ UNHEALTHY      │     101 │\n",
            "├────┼────────────────┼─────────┤\n",
            "│  3 │ VERY_UNHEALTHY │       2 │\n",
            "╘════╧════════════════╧═════════╛\n"
          ]
        }
      ]
    },
    {
      "cell_type": "markdown",
      "source": [
        "***Hapus Kategori Dengan Sample Paling Sedikit***"
      ],
      "metadata": {
        "id": "nHxmd9mlBwCQ"
      }
    },
    {
      "cell_type": "code",
      "source": [
        "# Find the category with the fewest data points\n",
        "min_category = category_counts.idxmin()\n",
        "min_category_count = category_counts.min()\n",
        "\n",
        "print(f\"\\nCategory with fewest data points: {min_category} ({min_category_count} data points)\")\n",
        "\n",
        "# Remove rows with the category that has the fewest data points\n",
        "data = data[data[\"category\"] != min_category]\n",
        "\n",
        "# Display the updated category distribution\n",
        "print(\"\\nUpdated Data Distribution by Category\")\n",
        "updated_category_counts = data[\"category\"].value_counts()\n",
        "print(tabulate(updated_category_counts.reset_index(), headers=['Category', 'Count'], tablefmt='fancy_grid'))\n",
        "\n",
        "# Save the updated dataset\n",
        "output_path = '/content/drive/MyDrive/UAS Machine Learning /UpdatedPreprocessedAirQualityJakartaData.xlsx'\n",
        "data.to_excel(output_path, index=False)\n",
        "\n",
        "print(f\"\\nUpdated dataset saved to {output_path}\")"
      ],
      "metadata": {
        "colab": {
          "base_uri": "https://localhost:8080/"
        },
        "id": "f_569XEZA-IF",
        "outputId": "da010d81-1ee8-4fb7-f620-4ddec8b12b6a"
      },
      "execution_count": 27,
      "outputs": [
        {
          "output_type": "stream",
          "name": "stdout",
          "text": [
            "\n",
            "Category with fewest data points: VERY_UNHEALTHY (2 data points)\n",
            "\n",
            "Updated Data Distribution by Category\n",
            "╒════╤════════════╤═════════╕\n",
            "│    │ Category   │   Count │\n",
            "╞════╪════════════╪═════════╡\n",
            "│  0 │ MEDIUM     │    1079 │\n",
            "├────┼────────────┼─────────┤\n",
            "│  1 │ GOOD       │     102 │\n",
            "├────┼────────────┼─────────┤\n",
            "│  2 │ UNHEALTHY  │     101 │\n",
            "╘════╧════════════╧═════════╛\n",
            "\n",
            "Updated dataset saved to /content/drive/MyDrive/UAS Machine Learning /UpdatedPreprocessedAirQualityJakartaData.xlsx\n"
          ]
        }
      ]
    },
    {
      "cell_type": "markdown",
      "source": [
        "***Visualisasi Distribusi Kategori***"
      ],
      "metadata": {
        "id": "-U-hAf8wESdG"
      }
    },
    {
      "cell_type": "code",
      "source": [
        "# Visualisasi distribusi kategori\n",
        "plt.figure(figsize=(8, 6))\n",
        "sns.countplot(x='category', data=data, palette=\"viridis\")\n",
        "plt.title('Distribution of Air Quality Categories')\n",
        "plt.xlabel('Air Quality Category')\n",
        "plt.ylabel('Number of Samples')\n",
        "plt.xticks(rotation=45, ha=\"right\")\n",
        "plt.tight_layout()\n",
        "plt.show()"
      ],
      "metadata": {
        "colab": {
          "base_uri": "https://localhost:8080/",
          "height": 694
        },
        "id": "DN0aRYhwDL9l",
        "outputId": "9d102c54-3c33-44ad-bccc-72d843a14f20"
      },
      "execution_count": 28,
      "outputs": [
        {
          "output_type": "stream",
          "name": "stderr",
          "text": [
            "<ipython-input-28-0b14d20a9a56>:3: FutureWarning: \n",
            "\n",
            "Passing `palette` without assigning `hue` is deprecated and will be removed in v0.14.0. Assign the `x` variable to `hue` and set `legend=False` for the same effect.\n",
            "\n",
            "  sns.countplot(x='category', data=data, palette=\"viridis\")\n"
          ]
        },
        {
          "output_type": "display_data",
          "data": {
            "text/plain": [
              "<Figure size 800x600 with 1 Axes>"
            ],
            "image/png": "[encoded data removed]"
          },
          "metadata": {}
        }
      ]
    },
    {
      "cell_type": "markdown",
      "source": [
        "***Feature-Engineered***"
      ],
      "metadata": {
        "id": "cmB07CRTzzc2"
      }
    },
    {
      "cell_type": "code",
      "source": [
        "# Load the updated preprocessed dataset\n",
        "file_path = \"/content/drive/MyDrive/UAS Machine Learning /UpdatedPreprocessedAirQualityJakartaData.xlsx\"\n",
        "data = pd.read_excel(file_path)\n",
        "\n",
        "# Feature Engineering (without 'station' column)\n",
        "X = data[[\"PM10\", \"PM25\", \"SO2\", \"CO\", \"O3\", \"NO2\"]]\n",
        "y = data[\"category\"]\n",
        "\n",
        "# Normalize numerical features\n",
        "print(\"\\nNormalizing Numerical Features\")\n",
        "scaler = MinMaxScaler()\n",
        "X[[\"PM10\", \"PM25\", \"SO2\", \"CO\", \"O3\", \"NO2\"]] = scaler.fit_transform(X[[\"PM10\", \"PM25\", \"SO2\", \"CO\", \"O3\", \"NO2\"]])\n",
        "\n",
        "# Display the feature-engineered dataset\n",
        "print(\"\\nFeature-Engineered Dataset (First 5 Rows)\")\n",
        "print(tabulate(X.head(), headers='keys', tablefmt='fancy_grid'))"
      ],
      "metadata": {
        "colab": {
          "base_uri": "https://localhost:8080/"
        },
        "id": "PTnA3VeIFuht",
        "outputId": "dabf4912-99d0-4278-d5b9-66939e01221f"
      },
      "execution_count": 29,
      "outputs": [
        {
          "output_type": "stream",
          "name": "stdout",
          "text": [
            "\n",
            "Normalizing Numerical Features\n",
            "\n",
            "Feature-Engineered Dataset (First 5 Rows)\n",
            "╒════╤══════════╤═══════════╤══════════╤══════════╤══════════╤══════════╕\n",
            "│    │     PM10 │      PM25 │      SO2 │       CO │       O3 │      NO2 │\n",
            "╞════╪══════════╪═══════════╪══════════╪══════════╪══════════╪══════════╡\n",
            "│  0 │ 0.277778 │ 0.153005  │ 0.5      │ 0.12963  │ 0.194805 │ 0.509434 │\n",
            "├────┼──────────┼───────────┼──────────┼──────────┼──────────┼──────────┤\n",
            "│  1 │ 0.206349 │ 0.0928962 │ 0.461538 │ 0.185185 │ 0.220779 │ 0.509434 │\n",
            "├────┼──────────┼───────────┼──────────┼──────────┼──────────┼──────────┤\n",
            "│  2 │ 0.277778 │ 0.163934  │ 0.487179 │ 0.148148 │ 0.155844 │ 0.471698 │\n",
            "├────┼──────────┼───────────┼──────────┼──────────┼──────────┼──────────┤\n",
            "│  3 │ 0.238095 │ 0.136612  │ 0.461538 │ 0.185185 │ 0.220779 │ 0.415094 │\n",
            "├────┼──────────┼───────────┼──────────┼──────────┼──────────┼──────────┤\n",
            "│  4 │ 0.222222 │ 0.153005  │ 0.448718 │ 0.148148 │ 0.207792 │ 0.358491 │\n",
            "╘════╧══════════╧═══════════╧══════════╧══════════╧══════════╧══════════╛\n"
          ]
        },
        {
          "output_type": "stream",
          "name": "stderr",
          "text": [
            "<ipython-input-29-996f791ecd61>:12: SettingWithCopyWarning: \n",
            "A value is trying to be set on a copy of a slice from a DataFrame.\n",
            "Try using .loc[row_indexer,col_indexer] = value instead\n",
            "\n",
            "See the caveats in the documentation: https://pandas.pydata.org/pandas-docs/stable/user_guide/indexing.html#returning-a-view-versus-a-copy\n",
            "  X[[\"PM10\", \"PM25\", \"SO2\", \"CO\", \"O3\", \"NO2\"]] = scaler.fit_transform(X[[\"PM10\", \"PM25\", \"SO2\", \"CO\", \"O3\", \"NO2\"]])\n"
          ]
        }
      ]
    },
    {
      "cell_type": "markdown",
      "source": [
        "***Correlation Matrix***"
      ],
      "metadata": {
        "id": "r4lGpBhfzqnW"
      }
    },
    {
      "cell_type": "code",
      "source": [
        "# Correlation Matrix\n",
        "print(\"\\n Correlation Matrix \")\n",
        "correlation_matrix = data[[\"PM10\", \"PM25\", \"SO2\", \"CO\", \"O3\", \"NO2\"]].corr()\n",
        "\n",
        "# Plot Correlation Matrix\n",
        "plt.figure(figsize=(10, 8))\n",
        "sns.heatmap(correlation_matrix, annot=True, cmap='coolwarm', fmt='.2f')\n",
        "plt.title('Correlation Matrix of Air Quality Features')\n",
        "plt.show()\n",
        "\n"
      ],
      "metadata": {
        "colab": {
          "base_uri": "https://localhost:8080/",
          "height": 734
        },
        "id": "IcecwZp9kDLg",
        "outputId": "fe9c2117-df2b-478f-fee9-652851c8b57f"
      },
      "execution_count": 30,
      "outputs": [
        {
          "output_type": "stream",
          "name": "stdout",
          "text": [
            "\n",
            " Correlation Matrix \n"
          ]
        },
        {
          "output_type": "display_data",
          "data": {
            "text/plain": [
              "<Figure size 1000x800 with 2 Axes>"
            ],
            "image/png": "[encoded data removed]"
          },
          "metadata": {}
        }
      ]
    },
    {
      "cell_type": "markdown",
      "source": [
        "***70% train, 30% test***"
      ],
      "metadata": {
        "id": "go8QppGBy4hd"
      }
    },
    {
      "cell_type": "code",
      "source": [
        "# Menggunakan LabelEncoder untuk mengonversi kategori menjadi angka\n",
        "label_encoder = LabelEncoder()\n",
        "y_encoded = label_encoder.fit_transform(y)  # Mengonversi kategori menjadi angka\n",
        "\n",
        "# Membagi data menjadi training dan testing\n",
        "X_train, X_test, y_train, y_test = train_test_split(X, y_encoded, test_size=0.3, random_state=42)\n",
        "\n",
        "# Model 1: Random Forest\n",
        "rf_model = RandomForestClassifier(random_state=42)\n",
        "rf_model.fit(X_train, y_train)\n",
        "y_pred_rf = rf_model.predict(X_test)\n",
        "\n",
        "# Model 2: XGBoost\n",
        "xgb_model = XGBClassifier(eval_metric='mlogloss', random_state=42)\n",
        "xgb_model.fit(X_train, y_train)\n",
        "y_pred_xgb = xgb_model.predict(X_test)\n",
        "\n",
        "# Model 3: Linear Regression (hanya jika target y numerik)\n",
        "lr_model = LinearRegression()\n",
        "lr_model.fit(X_train, y_train)\n",
        "y_pred_lr = lr_model.predict(X_test)\n",
        "\n",
        "# Function to get evaluation metrics\n",
        "def get_metrics(y_true, y_pred):\n",
        "    accuracy = accuracy_score(y_true, y_pred)\n",
        "    precision = precision_score(y_true, y_pred, average='weighted', zero_division=0)  # Atur zero_division ke 0\n",
        "    recall = recall_score(y_true, y_pred, average='weighted', zero_division=0)  # Atur zero_division ke 0\n",
        "    f1 = f1_score(y_true, y_pred, average='weighted', zero_division=0)  # Atur zero_division ke 0\n",
        "    return accuracy, precision, recall, f1\n",
        "\n",
        "# Evaluasi untuk Random Forest\n",
        "accuracy_rf, precision_rf, recall_rf, f1_rf = get_metrics(y_test, y_pred_rf)\n",
        "print(f\"Model: Random Forest\")\n",
        "print(f\"Accuracy: {accuracy_rf:.4f}\")\n",
        "print(f\"Precision: {precision_rf:.4f}\")\n",
        "print(f\"Recall: {recall_rf:.4f}\")\n",
        "print(f\"F1-Score: {f1_rf:.4f}\")\n",
        "print(\"----------------------------------------\")\n",
        "\n",
        "# Evaluasi untuk XGBoost\n",
        "accuracy_xgb, precision_xgb, recall_xgb, f1_xgb = get_metrics(y_test, y_pred_xgb)\n",
        "print(f\"Model: XGBoost\")\n",
        "print(f\"Accuracy: {accuracy_xgb:.4f}\")\n",
        "print(f\"Precision: {precision_xgb:.4f}\")\n",
        "print(f\"Recall: {recall_xgb:.4f}\")\n",
        "print(f\"F1-Score: {f1_xgb:.4f}\")\n",
        "print(\"----------------------------------------\")\n",
        "\n",
        "# Evaluasi untuk Linear Regression (menggunakan threshold 0.5 untuk klasifikasi)\n",
        "y_pred_lr_class = (y_pred_lr >= 0.5).astype(int)  # Menetapkan threshold untuk klasifikasi\n",
        "accuracy_lr, precision_lr, recall_lr, f1_lr = get_metrics(y_test, y_pred_lr_class)\n",
        "print(f\"Model: Linear Regression\")\n",
        "print(f\"Accuracy: {accuracy_lr:.4f}\")\n",
        "print(f\"Precision: {precision_lr:.4f}\")\n",
        "print(f\"Recall: {recall_lr:.4f}\")\n",
        "print(f\"F1-Score: {f1_lr:.4f}\")\n",
        "print(\"----------------------------------------\")\n",
        "\n",
        "# Classification report untuk Random Forest\n",
        "print(\"\\nClassification Report for Random Forest:\")\n",
        "print(classification_report(y_test, y_pred_rf))\n",
        "\n",
        "# Classification report untuk XGBoost\n",
        "print(\"\\nClassification Report for XGBoost:\")\n",
        "print(classification_report(y_test, y_pred_xgb))\n",
        "\n",
        "# Classification report untuk Linear Regression\n",
        "print(\"\\nClassification Report for Linear Regression:\")\n",
        "y_pred_lr_class = (y_pred_lr >= 0.5).astype(int)  # Menetapkan threshold untuk klasifikasi\n",
        "print(classification_report(y_test, y_pred_lr_class))"
      ],
      "metadata": {
        "colab": {
          "base_uri": "https://localhost:8080/"
        },
        "id": "VSsL2EW_uy1J",
        "outputId": "e7dd2121-4ffe-4ff5-fc99-fe3f48fa296b"
      },
      "execution_count": 31,
      "outputs": [
        {
          "output_type": "stream",
          "name": "stdout",
          "text": [
            "Model: Random Forest\n",
            "Accuracy: 0.9948\n",
            "Precision: 0.9948\n",
            "Recall: 0.9948\n",
            "F1-Score: 0.9948\n",
            "----------------------------------------\n",
            "Model: XGBoost\n",
            "Accuracy: 1.0000\n",
            "Precision: 1.0000\n",
            "Recall: 1.0000\n",
            "F1-Score: 1.0000\n",
            "----------------------------------------\n",
            "Model: Linear Regression\n",
            "Accuracy: 0.8883\n",
            "Precision: 0.8299\n",
            "Recall: 0.8883\n",
            "F1-Score: 0.8558\n",
            "----------------------------------------\n",
            "\n",
            "Classification Report for Random Forest:\n",
            "              precision    recall  f1-score   support\n",
            "\n",
            "           0       0.97      0.97      0.97        32\n",
            "           1       1.00      1.00      1.00       329\n",
            "           2       1.00      1.00      1.00        24\n",
            "\n",
            "    accuracy                           0.99       385\n",
            "   macro avg       0.99      0.99      0.99       385\n",
            "weighted avg       0.99      0.99      0.99       385\n",
            "\n",
            "\n",
            "Classification Report for XGBoost:\n",
            "              precision    recall  f1-score   support\n",
            "\n",
            "           0       1.00      1.00      1.00        32\n",
            "           1       1.00      1.00      1.00       329\n",
            "           2       1.00      1.00      1.00        24\n",
            "\n",
            "    accuracy                           1.00       385\n",
            "   macro avg       1.00      1.00      1.00       385\n",
            "weighted avg       1.00      1.00      1.00       385\n",
            "\n",
            "\n",
            "Classification Report for Linear Regression:\n",
            "              precision    recall  f1-score   support\n",
            "\n",
            "           0       0.78      0.56      0.65        32\n",
            "           1       0.90      0.98      0.94       329\n",
            "           2       0.00      0.00      0.00        24\n",
            "\n",
            "    accuracy                           0.89       385\n",
            "   macro avg       0.56      0.52      0.53       385\n",
            "weighted avg       0.83      0.89      0.86       385\n",
            "\n"
          ]
        },
        {
          "output_type": "stream",
          "name": "stderr",
          "text": [
            "/usr/local/lib/python3.11/dist-packages/sklearn/metrics/_classification.py:1565: UndefinedMetricWarning: Precision is ill-defined and being set to 0.0 in labels with no predicted samples. Use `zero_division` parameter to control this behavior.\n",
            "  _warn_prf(average, modifier, f\"{metric.capitalize()} is\", len(result))\n",
            "/usr/local/lib/python3.11/dist-packages/sklearn/metrics/_classification.py:1565: UndefinedMetricWarning: Precision is ill-defined and being set to 0.0 in labels with no predicted samples. Use `zero_division` parameter to control this behavior.\n",
            "  _warn_prf(average, modifier, f\"{metric.capitalize()} is\", len(result))\n",
            "/usr/local/lib/python3.11/dist-packages/sklearn/metrics/_classification.py:1565: UndefinedMetricWarning: Precision is ill-defined and being set to 0.0 in labels with no predicted samples. Use `zero_division` parameter to control this behavior.\n",
            "  _warn_prf(average, modifier, f\"{metric.capitalize()} is\", len(result))\n"
          ]
        }
      ]
    },
    {
      "cell_type": "markdown",
      "source": [
        "***80% train, 20% test***"
      ],
      "metadata": {
        "id": "OPer3HNPy_O6"
      }
    },
    {
      "cell_type": "code",
      "source": [
        "# Menggunakan LabelEncoder untuk mengonversi kategori menjadi angka\n",
        "label_encoder = LabelEncoder()\n",
        "y_encoded = label_encoder.fit_transform(y)  # Mengonversi kategori menjadi angka\n",
        "\n",
        "# Membagi data menjadi training dan testing\n",
        "X_train, X_test, y_train, y_test = train_test_split(X, y_encoded, test_size=0.2, random_state=42)\n",
        "\n",
        "# Model 1: Random Forest\n",
        "rf_model = RandomForestClassifier(random_state=42)\n",
        "rf_model.fit(X_train, y_train)\n",
        "y_pred_rf = rf_model.predict(X_test)\n",
        "\n",
        "# Model 2: XGBoost\n",
        "xgb_model = XGBClassifier(eval_metric='mlogloss', random_state=42)\n",
        "xgb_model.fit(X_train, y_train)\n",
        "y_pred_xgb = xgb_model.predict(X_test)\n",
        "\n",
        "# Model 3: Linear Regression (hanya jika target y numerik)\n",
        "lr_model = LinearRegression()\n",
        "lr_model.fit(X_train, y_train)\n",
        "y_pred_lr = lr_model.predict(X_test)\n",
        "\n",
        "# Function to get evaluation metrics\n",
        "def get_metrics(y_true, y_pred):\n",
        "    accuracy = accuracy_score(y_true, y_pred)\n",
        "    precision = precision_score(y_true, y_pred, average='weighted', zero_division=0)  # Atur zero_division ke 0\n",
        "    recall = recall_score(y_true, y_pred, average='weighted', zero_division=0)  # Atur zero_division ke 0\n",
        "    f1 = f1_score(y_true, y_pred, average='weighted', zero_division=0)  # Atur zero_division ke 0\n",
        "    return accuracy, precision, recall, f1\n",
        "\n",
        "# Evaluasi untuk Random Forest\n",
        "accuracy_rf, precision_rf, recall_rf, f1_rf = get_metrics(y_test, y_pred_rf)\n",
        "print(f\"Model: Random Forest\")\n",
        "print(f\"Accuracy: {accuracy_rf:.4f}\")\n",
        "print(f\"Precision: {precision_rf:.4f}\")\n",
        "print(f\"Recall: {recall_rf:.4f}\")\n",
        "print(f\"F1-Score: {f1_rf:.4f}\")\n",
        "print(\"----------------------------------------\")\n",
        "\n",
        "# Evaluasi untuk XGBoost\n",
        "accuracy_xgb, precision_xgb, recall_xgb, f1_xgb = get_metrics(y_test, y_pred_xgb)\n",
        "print(f\"Model: XGBoost\")\n",
        "print(f\"Accuracy: {accuracy_xgb:.4f}\")\n",
        "print(f\"Precision: {precision_xgb:.4f}\")\n",
        "print(f\"Recall: {recall_xgb:.4f}\")\n",
        "print(f\"F1-Score: {f1_xgb:.4f}\")\n",
        "print(\"----------------------------------------\")\n",
        "\n",
        "# Evaluasi untuk Linear Regression (menggunakan threshold 0.5 untuk klasifikasi)\n",
        "y_pred_lr_class = (y_pred_lr >= 0.5).astype(int)  # Menetapkan threshold untuk klasifikasi\n",
        "accuracy_lr, precision_lr, recall_lr, f1_lr = get_metrics(y_test, y_pred_lr_class)\n",
        "print(f\"Model: Linear Regression\")\n",
        "print(f\"Accuracy: {accuracy_lr:.4f}\")\n",
        "print(f\"Precision: {precision_lr:.4f}\")\n",
        "print(f\"Recall: {recall_lr:.4f}\")\n",
        "print(f\"F1-Score: {f1_lr:.4f}\")\n",
        "print(\"----------------------------------------\")\n",
        "\n",
        "# Classification report untuk Random Forest\n",
        "print(\"\\nClassification Report for Random Forest:\")\n",
        "print(classification_report(y_test, y_pred_rf))\n",
        "\n",
        "# Classification report untuk XGBoost\n",
        "print(\"\\nClassification Report for XGBoost:\")\n",
        "print(classification_report(y_test, y_pred_xgb))\n",
        "\n",
        "# Classification report untuk Linear Regression\n",
        "print(\"\\nClassification Report for Linear Regression:\")\n",
        "y_pred_lr_class = (y_pred_lr >= 0.5).astype(int)  # Menetapkan threshold untuk klasifikasi\n",
        "print(classification_report(y_test, y_pred_lr_class))"
      ],
      "metadata": {
        "colab": {
          "base_uri": "https://localhost:8080/"
        },
        "id": "aWoXcGjmzDY0",
        "outputId": "3433a149-c596-4f80-8cf5-c6b30f308ca1"
      },
      "execution_count": 32,
      "outputs": [
        {
          "output_type": "stream",
          "name": "stdout",
          "text": [
            "Model: Random Forest\n",
            "Accuracy: 0.9922\n",
            "Precision: 0.9922\n",
            "Recall: 0.9922\n",
            "F1-Score: 0.9922\n",
            "----------------------------------------\n",
            "Model: XGBoost\n",
            "Accuracy: 1.0000\n",
            "Precision: 1.0000\n",
            "Recall: 1.0000\n",
            "F1-Score: 1.0000\n",
            "----------------------------------------\n",
            "Model: Linear Regression\n",
            "Accuracy: 0.8949\n",
            "Precision: 0.8370\n",
            "Recall: 0.8949\n",
            "F1-Score: 0.8642\n",
            "----------------------------------------\n",
            "\n",
            "Classification Report for Random Forest:\n",
            "              precision    recall  f1-score   support\n",
            "\n",
            "           0       0.95      0.95      0.95        20\n",
            "           1       1.00      1.00      1.00       221\n",
            "           2       1.00      1.00      1.00        16\n",
            "\n",
            "    accuracy                           0.99       257\n",
            "   macro avg       0.98      0.98      0.98       257\n",
            "weighted avg       0.99      0.99      0.99       257\n",
            "\n",
            "\n",
            "Classification Report for XGBoost:\n",
            "              precision    recall  f1-score   support\n",
            "\n",
            "           0       1.00      1.00      1.00        20\n",
            "           1       1.00      1.00      1.00       221\n",
            "           2       1.00      1.00      1.00        16\n",
            "\n",
            "    accuracy                           1.00       257\n",
            "   macro avg       1.00      1.00      1.00       257\n",
            "weighted avg       1.00      1.00      1.00       257\n",
            "\n",
            "\n",
            "Classification Report for Linear Regression:\n",
            "              precision    recall  f1-score   support\n",
            "\n",
            "           0       0.76      0.65      0.70        20\n",
            "           1       0.90      0.98      0.94       221\n",
            "           2       0.00      0.00      0.00        16\n",
            "\n",
            "    accuracy                           0.89       257\n",
            "   macro avg       0.56      0.54      0.55       257\n",
            "weighted avg       0.84      0.89      0.86       257\n",
            "\n"
          ]
        },
        {
          "output_type": "stream",
          "name": "stderr",
          "text": [
            "/usr/local/lib/python3.11/dist-packages/sklearn/metrics/_classification.py:1565: UndefinedMetricWarning: Precision is ill-defined and being set to 0.0 in labels with no predicted samples. Use `zero_division` parameter to control this behavior.\n",
            "  _warn_prf(average, modifier, f\"{metric.capitalize()} is\", len(result))\n",
            "/usr/local/lib/python3.11/dist-packages/sklearn/metrics/_classification.py:1565: UndefinedMetricWarning: Precision is ill-defined and being set to 0.0 in labels with no predicted samples. Use `zero_division` parameter to control this behavior.\n",
            "  _warn_prf(average, modifier, f\"{metric.capitalize()} is\", len(result))\n",
            "/usr/local/lib/python3.11/dist-packages/sklearn/metrics/_classification.py:1565: UndefinedMetricWarning: Precision is ill-defined and being set to 0.0 in labels with no predicted samples. Use `zero_division` parameter to control this behavior.\n",
            "  _warn_prf(average, modifier, f\"{metric.capitalize()} is\", len(result))\n"
          ]
        }
      ]
    },
    {
      "cell_type": "markdown",
      "source": [
        "***90% train, 10% test***"
      ],
      "metadata": {
        "id": "w64p7cWWzMbX"
      }
    },
    {
      "cell_type": "code",
      "source": [
        "# Menggunakan LabelEncoder untuk mengonversi kategori menjadi angka\n",
        "label_encoder = LabelEncoder()\n",
        "y_encoded = label_encoder.fit_transform(y)  # Mengonversi kategori menjadi angka\n",
        "\n",
        "# Membagi data menjadi training dan testing\n",
        "X_train, X_test, y_train, y_test = train_test_split(X, y_encoded, test_size=0.1, random_state=42)\n",
        "\n",
        "# Model 1: Random Forest\n",
        "rf_model = RandomForestClassifier(random_state=42)\n",
        "rf_model.fit(X_train, y_train)\n",
        "y_pred_rf = rf_model.predict(X_test)\n",
        "\n",
        "# Model 2: XGBoost\n",
        "xgb_model = XGBClassifier(eval_metric='mlogloss', random_state=42)\n",
        "xgb_model.fit(X_train, y_train)\n",
        "y_pred_xgb = xgb_model.predict(X_test)\n",
        "\n",
        "# Model 3: Linear Regression (hanya jika target y numerik)\n",
        "lr_model = LinearRegression()\n",
        "lr_model.fit(X_train, y_train)\n",
        "y_pred_lr = lr_model.predict(X_test)\n",
        "\n",
        "# Function to get evaluation metrics\n",
        "def get_metrics(y_true, y_pred):\n",
        "    accuracy = accuracy_score(y_true, y_pred)\n",
        "    precision = precision_score(y_true, y_pred, average='weighted', zero_division=0)  # Atur zero_division ke 0\n",
        "    recall = recall_score(y_true, y_pred, average='weighted', zero_division=0)  # Atur zero_division ke 0\n",
        "    f1 = f1_score(y_true, y_pred, average='weighted', zero_division=0)  # Atur zero_division ke 0\n",
        "    return accuracy, precision, recall, f1\n",
        "\n",
        "# Evaluasi untuk Random Forest\n",
        "accuracy_rf, precision_rf, recall_rf, f1_rf = get_metrics(y_test, y_pred_rf)\n",
        "print(f\"Model: Random Forest\")\n",
        "print(f\"Accuracy: {accuracy_rf:.4f}\")\n",
        "print(f\"Precision: {precision_rf:.4f}\")\n",
        "print(f\"Recall: {recall_rf:.4f}\")\n",
        "print(f\"F1-Score: {f1_rf:.4f}\")\n",
        "print(\"----------------------------------------\")\n",
        "\n",
        "# Evaluasi untuk XGBoost\n",
        "accuracy_xgb, precision_xgb, recall_xgb, f1_xgb = get_metrics(y_test, y_pred_xgb)\n",
        "print(f\"Model: XGBoost\")\n",
        "print(f\"Accuracy: {accuracy_xgb:.4f}\")\n",
        "print(f\"Precision: {precision_xgb:.4f}\")\n",
        "print(f\"Recall: {recall_xgb:.4f}\")\n",
        "print(f\"F1-Score: {f1_xgb:.4f}\")\n",
        "print(\"----------------------------------------\")\n",
        "\n",
        "# Evaluasi untuk Linear Regression (menggunakan threshold 0.5 untuk klasifikasi)\n",
        "y_pred_lr_class = (y_pred_lr >= 0.5).astype(int)  # Menetapkan threshold untuk klasifikasi\n",
        "accuracy_lr, precision_lr, recall_lr, f1_lr = get_metrics(y_test, y_pred_lr_class)\n",
        "print(f\"Model: Linear Regression\")\n",
        "print(f\"Accuracy: {accuracy_lr:.4f}\")\n",
        "print(f\"Precision: {precision_lr:.4f}\")\n",
        "print(f\"Recall: {recall_lr:.4f}\")\n",
        "print(f\"F1-Score: {f1_lr:.4f}\")\n",
        "print(\"----------------------------------------\")\n",
        "\n",
        "# Classification report untuk Random Forest\n",
        "print(\"\\nClassification Report for Random Forest:\")\n",
        "print(classification_report(y_test, y_pred_rf))\n",
        "\n",
        "# Classification report untuk XGBoost\n",
        "print(\"\\nClassification Report for XGBoost:\")\n",
        "print(classification_report(y_test, y_pred_xgb))\n",
        "\n",
        "# Classification report untuk Linear Regression\n",
        "print(\"\\nClassification Report for Linear Regression:\")\n",
        "y_pred_lr_class = (y_pred_lr >= 0.5).astype(int)  # Menetapkan threshold untuk klasifikasi\n",
        "print(classification_report(y_test, y_pred_lr_class))"
      ],
      "metadata": {
        "id": "dF2-shW_zS8c",
        "colab": {
          "base_uri": "https://localhost:8080/"
        },
        "outputId": "83be9334-49ad-4a4c-e921-8fa9ab927cd7"
      },
      "execution_count": 33,
      "outputs": [
        {
          "output_type": "stream",
          "name": "stdout",
          "text": [
            "Model: Random Forest\n",
            "Accuracy: 0.9845\n",
            "Precision: 0.9845\n",
            "Recall: 0.9845\n",
            "F1-Score: 0.9845\n",
            "----------------------------------------\n",
            "Model: XGBoost\n",
            "Accuracy: 1.0000\n",
            "Precision: 1.0000\n",
            "Recall: 1.0000\n",
            "F1-Score: 1.0000\n",
            "----------------------------------------\n",
            "Model: Linear Regression\n",
            "Accuracy: 0.8682\n",
            "Precision: 0.8043\n",
            "Recall: 0.8682\n",
            "F1-Score: 0.8333\n",
            "----------------------------------------\n",
            "\n",
            "Classification Report for Random Forest:\n",
            "              precision    recall  f1-score   support\n",
            "\n",
            "           0       0.89      0.89      0.89         9\n",
            "           1       0.99      0.99      0.99       112\n",
            "           2       1.00      1.00      1.00         8\n",
            "\n",
            "    accuracy                           0.98       129\n",
            "   macro avg       0.96      0.96      0.96       129\n",
            "weighted avg       0.98      0.98      0.98       129\n",
            "\n",
            "\n",
            "Classification Report for XGBoost:\n",
            "              precision    recall  f1-score   support\n",
            "\n",
            "           0       1.00      1.00      1.00         9\n",
            "           1       1.00      1.00      1.00       112\n",
            "           2       1.00      1.00      1.00         8\n",
            "\n",
            "    accuracy                           1.00       129\n",
            "   macro avg       1.00      1.00      1.00       129\n",
            "weighted avg       1.00      1.00      1.00       129\n",
            "\n",
            "\n",
            "Classification Report for Linear Regression:\n",
            "              precision    recall  f1-score   support\n",
            "\n",
            "           0       0.50      0.33      0.40         9\n",
            "           1       0.89      0.97      0.93       112\n",
            "           2       0.00      0.00      0.00         8\n",
            "\n",
            "    accuracy                           0.87       129\n",
            "   macro avg       0.46      0.44      0.44       129\n",
            "weighted avg       0.80      0.87      0.83       129\n",
            "\n"
          ]
        },
        {
          "output_type": "stream",
          "name": "stderr",
          "text": [
            "/usr/local/lib/python3.11/dist-packages/sklearn/metrics/_classification.py:1565: UndefinedMetricWarning: Precision is ill-defined and being set to 0.0 in labels with no predicted samples. Use `zero_division` parameter to control this behavior.\n",
            "  _warn_prf(average, modifier, f\"{metric.capitalize()} is\", len(result))\n",
            "/usr/local/lib/python3.11/dist-packages/sklearn/metrics/_classification.py:1565: UndefinedMetricWarning: Precision is ill-defined and being set to 0.0 in labels with no predicted samples. Use `zero_division` parameter to control this behavior.\n",
            "  _warn_prf(average, modifier, f\"{metric.capitalize()} is\", len(result))\n",
            "/usr/local/lib/python3.11/dist-packages/sklearn/metrics/_classification.py:1565: UndefinedMetricWarning: Precision is ill-defined and being set to 0.0 in labels with no predicted samples. Use `zero_division` parameter to control this behavior.\n",
            "  _warn_prf(average, modifier, f\"{metric.capitalize()} is\", len(result))\n"
          ]
        }
      ]
    },
    {
      "cell_type": "markdown",
      "source": [
        "***SAVE MODEL 70% TRAIN, 30% TEST***"
      ],
      "metadata": {
        "id": "dBXWGWTXiBBt"
      }
    },
    {
      "cell_type": "code",
      "source": [
        "import joblib\n",
        "\n",
        "# Memuat dataset dari file Excel baru\n",
        "file_path = \"/content/drive/MyDrive/UAS Machine Learning /UpdatedPreprocessedAirQualityJakartaData.xlsx\"\n",
        "data = pd.read_excel(file_path)\n",
        "\n",
        "# Periksa beberapa data awal untuk melihat struktur dataset\n",
        "print(data.head())\n",
        "\n",
        "# Pisahkan fitur dan target\n",
        "X = data[['PM10', 'PM25', 'SO2', 'CO', 'O3', 'NO2']]  # Select numerical features\n",
        "y = data['category']  # Target\n",
        "\n",
        "# Menggunakan LabelEncoder untuk mengonversi kategori menjadi angka\n",
        "label_encoder = LabelEncoder()\n",
        "y_encoded = label_encoder.fit_transform(y)  # Mengonversi kategori menjadi angka\n",
        "\n",
        "# Membagi data menjadi training dan testing\n",
        "X_train, X_test, y_train, y_test = train_test_split(X, y_encoded, test_size=0.3, random_state=42)\n",
        "\n",
        "# Normalisasi fitur numerik\n",
        "scaler = MinMaxScaler()\n",
        "X_train_scaled = scaler.fit_transform(X_train)  # Normalisasi data training\n",
        "X_test_scaled = scaler.transform(X_test)       # Normalisasi data testing\n",
        "\n",
        "# Model 1: Random Forest\n",
        "rf_model = RandomForestClassifier(random_state=42)\n",
        "rf_model.fit(X_train_scaled, y_train)\n",
        "y_pred_rf = rf_model.predict(X_test_scaled)\n",
        "\n",
        "# Model 2: XGBoost\n",
        "xgb_model = XGBClassifier(eval_metric='mlogloss', random_state=42)\n",
        "xgb_model.fit(X_train_scaled, y_train)\n",
        "y_pred_xgb = xgb_model.predict(X_test_scaled)\n",
        "\n",
        "# Model 3: Linear Regression (hanya jika target y numerik)\n",
        "lr_model = LinearRegression()\n",
        "lr_model.fit(X_train_scaled, y_train)\n",
        "y_pred_lr = lr_model.predict(X_test_scaled)\n",
        "\n",
        "# Function to get evaluation metrics\n",
        "def get_metrics(y_true, y_pred):\n",
        "    accuracy = accuracy_score(y_true, y_pred)\n",
        "    precision = precision_score(y_true, y_pred, average='weighted', zero_division=0)  # Atur zero_division ke 0\n",
        "    recall = recall_score(y_true, y_pred, average='weighted', zero_division=0)  # Atur zero_division ke 0\n",
        "    f1 = f1_score(y_true, y_pred, average='weighted', zero_division=0)  # Atur zero_division ke 0\n",
        "    return accuracy, precision, recall, f1\n",
        "\n",
        "# Evaluasi untuk Random Forest\n",
        "accuracy_rf, precision_rf, recall_rf, f1_rf = get_metrics(y_test, y_pred_rf)\n",
        "print(f\"Model: Random Forest\")\n",
        "print(f\"Accuracy: {accuracy_rf:.4f}\")\n",
        "print(f\"Precision: {precision_rf:.4f}\")\n",
        "print(f\"Recall: {recall_rf:.4f}\")\n",
        "print(f\"F1-Score: {f1_rf:.4f}\")\n",
        "print(\"----------------------------------------\")\n",
        "\n",
        "# Evaluasi untuk XGBoost\n",
        "accuracy_xgb, precision_xgb, recall_xgb, f1_xgb = get_metrics(y_test, y_pred_xgb)\n",
        "print(f\"Model: XGBoost\")\n",
        "print(f\"Accuracy: {accuracy_xgb:.4f}\")\n",
        "print(f\"Precision: {precision_xgb:.4f}\")\n",
        "print(f\"Recall: {recall_xgb:.4f}\")\n",
        "print(f\"F1-Score: {f1_xgb:.4f}\")\n",
        "print(\"----------------------------------------\")\n",
        "\n",
        "# Evaluasi untuk Linear Regression (menggunakan threshold 0.5 untuk klasifikasi)\n",
        "y_pred_lr_class = (y_pred_lr >= 0.5).astype(int)  # Menetapkan threshold untuk klasifikasi\n",
        "accuracy_lr, precision_lr, recall_lr, f1_lr = get_metrics(y_test, y_pred_lr_class)\n",
        "print(f\"Model: Linear Regression\")\n",
        "print(f\"Accuracy: {accuracy_lr:.4f}\")\n",
        "print(f\"Precision: {precision_lr:.4f}\")\n",
        "print(f\"Recall: {recall_lr:.4f}\")\n",
        "print(f\"F1-Score: {f1_lr:.4f}\")\n",
        "print(\"----------------------------------------\")\n",
        "\n",
        "# Classification report untuk Random Forest\n",
        "print(\"\\nClassification Report for Random Forest:\")\n",
        "print(classification_report(y_test, y_pred_rf))\n",
        "\n",
        "# Classification report untuk XGBoost\n",
        "print(\"\\nClassification Report for XGBoost:\")\n",
        "print(classification_report(y_test, y_pred_xgb))\n",
        "\n",
        "# Classification report untuk Linear Regression\n",
        "print(\"\\nClassification Report for Linear Regression:\")\n",
        "print(classification_report(y_test, y_pred_lr_class))\n",
        "\n",
        "# Menyimpan model, scaler, dan LabelEncoder ke Google Drive\n",
        "output_path = '/content/drive/MyDrive/UAS Machine Learning /'\n",
        "\n",
        "joblib.dump(rf_model, output_path + 'random_forest_model.pkl')\n",
        "print(\"Random Forest model saved to Google Drive.\")\n",
        "\n",
        "joblib.dump(xgb_model, output_path + 'xgboost_model.pkl')\n",
        "print(\"XGBoost model saved to Google Drive.\")\n",
        "\n",
        "joblib.dump(lr_model, output_path + 'linear_regression_model.pkl')\n",
        "print(\"Linear Regression model saved to Google Drive.\")\n",
        "\n",
        "# Simpan scaler\n",
        "joblib.dump(scaler, output_path + 'scaler.pkl')\n",
        "print(\"Scaler saved to Google Drive.\")\n",
        "\n",
        "# Simpan LabelEncoder\n",
        "joblib.dump(label_encoder, output_path + 'label_encoder.pkl')\n",
        "print(\"LabelEncoder saved to Google Drive.\")\n"
      ],
      "metadata": {
        "colab": {
          "base_uri": "https://localhost:8080/"
        },
        "id": "JJrYrQyDgLxS",
        "outputId": "fd6a3efb-56b8-4589-fbeb-9b2d89e38291"
      },
      "execution_count": 37,
      "outputs": [
        {
          "output_type": "stream",
          "name": "stdout",
          "text": [
            "   PM10  PM25  SO2  CO  O3  NO2 category\n",
            "0    38    44   50   8  19   27     GOOD\n",
            "1    29    33   47  11  21   27     GOOD\n",
            "2    38    46   49   9  16   25     GOOD\n",
            "3    33    41   47  11  21   22     GOOD\n",
            "4    31    44   46   9  20   19     GOOD\n",
            "Model: Random Forest\n",
            "Accuracy: 0.9948\n",
            "Precision: 0.9948\n",
            "Recall: 0.9948\n",
            "F1-Score: 0.9948\n",
            "----------------------------------------\n",
            "Model: XGBoost\n",
            "Accuracy: 1.0000\n",
            "Precision: 1.0000\n",
            "Recall: 1.0000\n",
            "F1-Score: 1.0000\n",
            "----------------------------------------\n",
            "Model: Linear Regression\n",
            "Accuracy: 0.8883\n",
            "Precision: 0.8299\n",
            "Recall: 0.8883\n",
            "F1-Score: 0.8558\n",
            "----------------------------------------\n",
            "\n",
            "Classification Report for Random Forest:\n",
            "              precision    recall  f1-score   support\n",
            "\n",
            "           0       0.97      0.97      0.97        32\n",
            "           1       1.00      1.00      1.00       329\n",
            "           2       1.00      1.00      1.00        24\n",
            "\n",
            "    accuracy                           0.99       385\n",
            "   macro avg       0.99      0.99      0.99       385\n",
            "weighted avg       0.99      0.99      0.99       385\n",
            "\n",
            "\n",
            "Classification Report for XGBoost:\n",
            "              precision    recall  f1-score   support\n",
            "\n",
            "           0       1.00      1.00      1.00        32\n",
            "           1       1.00      1.00      1.00       329\n",
            "           2       1.00      1.00      1.00        24\n",
            "\n",
            "    accuracy                           1.00       385\n",
            "   macro avg       1.00      1.00      1.00       385\n",
            "weighted avg       1.00      1.00      1.00       385\n",
            "\n",
            "\n",
            "Classification Report for Linear Regression:\n",
            "              precision    recall  f1-score   support\n",
            "\n",
            "           0       0.78      0.56      0.65        32\n",
            "           1       0.90      0.98      0.94       329\n",
            "           2       0.00      0.00      0.00        24\n",
            "\n",
            "    accuracy                           0.89       385\n",
            "   macro avg       0.56      0.52      0.53       385\n",
            "weighted avg       0.83      0.89      0.86       385\n",
            "\n",
            "Random Forest model saved to Google Drive.\n",
            "XGBoost model saved to Google Drive.\n",
            "Linear Regression model saved to Google Drive.\n",
            "Scaler saved to Google Drive.\n",
            "LabelEncoder saved to Google Drive.\n"
          ]
        },
        {
          "output_type": "stream",
          "name": "stderr",
          "text": [
            "/usr/local/lib/python3.11/dist-packages/sklearn/metrics/_classification.py:1565: UndefinedMetricWarning: Precision is ill-defined and being set to 0.0 in labels with no predicted samples. Use `zero_division` parameter to control this behavior.\n",
            "  _warn_prf(average, modifier, f\"{metric.capitalize()} is\", len(result))\n",
            "/usr/local/lib/python3.11/dist-packages/sklearn/metrics/_classification.py:1565: UndefinedMetricWarning: Precision is ill-defined and being set to 0.0 in labels with no predicted samples. Use `zero_division` parameter to control this behavior.\n",
            "  _warn_prf(average, modifier, f\"{metric.capitalize()} is\", len(result))\n",
            "/usr/local/lib/python3.11/dist-packages/sklearn/metrics/_classification.py:1565: UndefinedMetricWarning: Precision is ill-defined and being set to 0.0 in labels with no predicted samples. Use `zero_division` parameter to control this behavior.\n",
            "  _warn_prf(average, modifier, f\"{metric.capitalize()} is\", len(result))\n"
          ]
        }
      ]
    },
    {
      "cell_type": "markdown",
      "source": [
        "Dari hasil nilai accuracy, precision, recall, dan F1-score milik 70% train dan 30% test, ditemukan model XGboost adalah model terbaik dengan accuracy 1.00 atau 100% dan nilai precision, recall, F1-score yang sempurna.\n",
        "\n",
        "Disusul oleh model Random Forest dengan accuracy 0.99 atau 99%, dengan nilai precision, recall, F1-score 0.97 pada kelas 0.\n",
        "\n",
        "Model dengan accuracy terburuk yaitu Linear Regression, dengan accuracy 0.89 atau 89%."
      ],
      "metadata": {
        "id": "i0O4yG4miwBH"
      }
    },
    {
      "cell_type": "markdown",
      "source": [
        "***FEATURE*** ***IMPORTANCE***"
      ],
      "metadata": {
        "id": "2ZcWKvXAliAc"
      }
    },
    {
      "cell_type": "code",
      "source": [
        "# Load the saved XGBoost model\n",
        "loaded_rf_model = joblib.load('/content/drive/MyDrive/UAS Machine Learning /xgboost_model.pkl')\n",
        "\n",
        "# Assuming 'X' is your feature matrix (as defined in your previous code)\n",
        "# Get feature importances from the loaded model\n",
        "feature_importances = loaded_rf_model.feature_importances_\n",
        "\n",
        "# Get feature names (assuming you have them stored as a list or in the original DataFrame)\n",
        "feature_names = list(X.columns)\n",
        "\n",
        "# Create a DataFrame to store feature importances and names\n",
        "feature_importance_df = pd.DataFrame({'Feature': feature_names, 'Importance': feature_importances})\n",
        "\n",
        "# Sort the DataFrame by importance in descending order\n",
        "feature_importance_df = feature_importance_df.sort_values(by='Importance', ascending=False)\n",
        "\n",
        "# Display the feature importances\n",
        "print(feature_importance_df)\n",
        "\n",
        "# Visualize feature importance\n",
        "plt.figure(figsize=(10, 6))\n",
        "plt.barh(feature_importance_df['Feature'], feature_importance_df['Importance'])\n",
        "plt.xlabel('Importance')\n",
        "plt.ylabel('Feature')\n",
        "plt.title('Feature Importance from XGBoost Model')\n",
        "plt.show()"
      ],
      "metadata": {
        "colab": {
          "base_uri": "https://localhost:8080/",
          "height": 686
        },
        "id": "1zqYz0iXhODh",
        "outputId": "c1733223-5850-44df-89bb-4dc0cfa37195"
      },
      "execution_count": 38,
      "outputs": [
        {
          "output_type": "stream",
          "name": "stdout",
          "text": [
            "  Feature  Importance\n",
            "1    PM25    0.671847\n",
            "2     SO2    0.230416\n",
            "0    PM10    0.093003\n",
            "3      CO    0.002691\n",
            "4      O3    0.002044\n",
            "5     NO2    0.000000\n"
          ]
        },
        {
          "output_type": "display_data",
          "data": {
            "text/plain": [
              "<Figure size 1000x600 with 1 Axes>"
            ],
            "image/png": "[encoded data removed]"
          },
          "metadata": {}
        }
      ]
    },
    {
      "cell_type": "code",
      "source": [
        "import numpy as np\n",
        "\n",
        "# Load saved XGBoost model\n",
        "loaded_xgb_model = joblib.load('/content/drive/MyDrive/UAS Machine Learning /xgboost_model.pkl')\n",
        "\n",
        "# Load saved scaler (pastikan Anda menyimpan scaler saat pelatihan)\n",
        "scaler = joblib.load('/content/drive/MyDrive/UAS Machine Learning /scaler.pkl')\n",
        "\n",
        "# Load saved LabelEncoder (pastikan Anda menyimpan LabelEncoder saat pelatihan)\n",
        "label_encoder = joblib.load('/content/drive/MyDrive/UAS Machine Learning /label_encoder.pkl')\n",
        "\n",
        "# Input data for prediction\n",
        "pm25 = float(input(\"Masukkan nilai PM10: \"))\n",
        "so2 = float(input(\"Masukkan nilai PM2.5: \"))\n",
        "pm10 = float(input(\"Masukkan nilai SO2: \"))\n",
        "co = float(input(\"Masukkan nilai CO: \"))\n",
        "o3 = float(input(\"Masukkan nilai O3: \"))\n",
        "no2 = float(input(\"Masukkan nilai NO2: \"))\n",
        "\n",
        "# Create a DataFrame for the input data\n",
        "input_data = pd.DataFrame({\n",
        "    'PM10': [pm10],\n",
        "    'PM25': [pm25],\n",
        "    'SO2': [so2],\n",
        "    'CO': [co],\n",
        "    'O3': [o3],\n",
        "    'NO2': [no2]\n",
        "})\n",
        "\n",
        "# Apply the same scaling used during training\n",
        "input_data_scaled = scaler.transform(input_data)\n",
        "\n",
        "# Make prediction using the loaded model\n",
        "prediction = loaded_xgb_model.predict(input_data_scaled)\n",
        "\n",
        "# Convert prediction back to category using LabelEncoder\n",
        "predicted_category = label_encoder.inverse_transform(prediction)\n",
        "\n",
        "# Print predicted category\n",
        "print(f\"Kategori kualitas udara yang diprediksi: {predicted_category[0]}\")"
      ],
      "metadata": {
        "colab": {
          "base_uri": "https://localhost:8080/"
        },
        "id": "3JIlvhe_lyEo",
        "outputId": "e45c5f98-8b1c-4a9f-da18-4d725452f108"
      },
      "execution_count": 46,
      "outputs": [
        {
          "output_type": "stream",
          "name": "stdout",
          "text": [
            "Masukkan nilai PM10: 86\n",
            "Masukkan nilai PM2.5: 114\n",
            "Masukkan nilai SO2: 52\n",
            "Masukkan nilai CO: 89\n",
            "Masukkan nilai O3: 78\n",
            "Masukkan nilai NO2: 80\n",
            "Kategori kualitas udara yang diprediksi: MEDIUM\n"
          ]
        }
      ]
    }
  ]
}